{
 "cells": [
  {
   "cell_type": "markdown",
   "metadata": {},
   "source": [
    "### 90803 Data Cleaning and Question Definition\n",
    "### Data Cleaning: COVID-19 Datasets\n",
    "\n",
    "**Team 14**\n",
    "\n",
    "Chi-Shiun Tsai & Colton Lapp"
   ]
  },
  {
   "cell_type": "markdown",
   "metadata": {},
   "source": [
    "This notebook is used for cleaning the COVID-19 datasets from the NYTimes."
   ]
  },
  {
   "cell_type": "markdown",
   "metadata": {},
   "source": [
    "### 0. Impoting libraries"
   ]
  },
  {
   "cell_type": "code",
   "execution_count": 13,
   "metadata": {},
   "outputs": [],
   "source": [
    "import numpy as np\n",
    "import pandas as pd\n",
    "from datetime import datetime\n",
    "import matplotlib.pyplot as plt\n",
    "%matplotlib inline"
   ]
  },
  {
   "cell_type": "markdown",
   "metadata": {},
   "source": [
    "### 1. Reading datasets"
   ]
  },
  {
   "cell_type": "code",
   "execution_count": 15,
   "metadata": {},
   "outputs": [
    {
     "data": {
      "text/html": [
       "<div>\n",
       "<style scoped>\n",
       "    .dataframe tbody tr th:only-of-type {\n",
       "        vertical-align: middle;\n",
       "    }\n",
       "\n",
       "    .dataframe tbody tr th {\n",
       "        vertical-align: top;\n",
       "    }\n",
       "\n",
       "    .dataframe thead th {\n",
       "        text-align: right;\n",
       "    }\n",
       "</style>\n",
       "<table border=\"1\" class=\"dataframe\">\n",
       "  <thead>\n",
       "    <tr style=\"text-align: right;\">\n",
       "      <th></th>\n",
       "      <th>version https://git-lfs.github.com/spec/v1</th>\n",
       "    </tr>\n",
       "  </thead>\n",
       "  <tbody>\n",
       "    <tr>\n",
       "      <th>0</th>\n",
       "      <td>oid sha256:fd98d6c3a062c9e7f0ed10bc7d249601e0b...</td>\n",
       "    </tr>\n",
       "    <tr>\n",
       "      <th>1</th>\n",
       "      <td>size 35871900</td>\n",
       "    </tr>\n",
       "  </tbody>\n",
       "</table>\n",
       "</div>"
      ],
      "text/plain": [
       "          version https://git-lfs.github.com/spec/v1\n",
       "0  oid sha256:fd98d6c3a062c9e7f0ed10bc7d249601e0b...\n",
       "1                                      size 35871900"
      ]
     },
     "execution_count": 15,
     "metadata": {},
     "output_type": "execute_result"
    }
   ],
   "source": [
    "covid_20 = pd.read_csv('../data/COVID-19 Cases/us-counties-2020.csv', dtype={'fips': str})\n",
    "covid_21 = pd.read_csv('../data/COVID-19 Cases/us-counties-2021.csv', dtype={'fips': str})\n",
    "covid_22 = pd.read_csv('../data/COVID-19 Cases/us-counties-2022.csv', dtype={'fips': str})\n",
    "covid_23 = pd.read_csv('../data/COVID-19 Cases/us-counties-2023.csv', dtype={'fips': str})"
   ]
  },
  {
   "cell_type": "markdown",
   "metadata": {},
   "source": [
    "We want to focus on the aggregated year level. Therefore, we want to keep only the number of cumulative cases and deaths for each year."
   ]
  },
  {
   "cell_type": "code",
   "execution_count": 3,
   "metadata": {},
   "outputs": [],
   "source": [
    "def keep_last(df):\n",
    "    df['date'] = pd.to_datetime(df['date'])\n",
    "    df.sort_values('date', inplace=True, ascending=False)\n",
    "    df = df.groupby(by=['county', 'state', 'fips'], as_index=False).first()\n",
    "    df['year'] = df['date'].dt.year\n",
    "    df.drop(columns=['date'], inplace=True)\n",
    "    return df\n",
    "\n",
    "covid_20 = keep_last(covid_20)\n",
    "covid_21 = keep_last(covid_21)\n",
    "covid_22 = keep_last(covid_22)\n",
    "covid_23 = keep_last(covid_23)"
   ]
  },
  {
   "cell_type": "code",
   "execution_count": 4,
   "metadata": {},
   "outputs": [
    {
     "data": {
      "text/html": [
       "<div>\n",
       "<style scoped>\n",
       "    .dataframe tbody tr th:only-of-type {\n",
       "        vertical-align: middle;\n",
       "    }\n",
       "\n",
       "    .dataframe tbody tr th {\n",
       "        vertical-align: top;\n",
       "    }\n",
       "\n",
       "    .dataframe thead th {\n",
       "        text-align: right;\n",
       "    }\n",
       "</style>\n",
       "<table border=\"1\" class=\"dataframe\">\n",
       "  <thead>\n",
       "    <tr style=\"text-align: right;\">\n",
       "      <th></th>\n",
       "      <th>county</th>\n",
       "      <th>state</th>\n",
       "      <th>fips</th>\n",
       "      <th>cases</th>\n",
       "      <th>deaths</th>\n",
       "      <th>year</th>\n",
       "    </tr>\n",
       "  </thead>\n",
       "  <tbody>\n",
       "    <tr>\n",
       "      <th>0</th>\n",
       "      <td>Abbeville</td>\n",
       "      <td>South Carolina</td>\n",
       "      <td>45001</td>\n",
       "      <td>1275</td>\n",
       "      <td>25.0</td>\n",
       "      <td>2020</td>\n",
       "    </tr>\n",
       "    <tr>\n",
       "      <th>1</th>\n",
       "      <td>Acadia</td>\n",
       "      <td>Louisiana</td>\n",
       "      <td>22001</td>\n",
       "      <td>5082</td>\n",
       "      <td>153.0</td>\n",
       "      <td>2020</td>\n",
       "    </tr>\n",
       "    <tr>\n",
       "      <th>2</th>\n",
       "      <td>Accomack</td>\n",
       "      <td>Virginia</td>\n",
       "      <td>51001</td>\n",
       "      <td>1698</td>\n",
       "      <td>27.0</td>\n",
       "      <td>2020</td>\n",
       "    </tr>\n",
       "    <tr>\n",
       "      <th>3</th>\n",
       "      <td>Ada</td>\n",
       "      <td>Idaho</td>\n",
       "      <td>16001</td>\n",
       "      <td>38417</td>\n",
       "      <td>355.0</td>\n",
       "      <td>2020</td>\n",
       "    </tr>\n",
       "    <tr>\n",
       "      <th>4</th>\n",
       "      <td>Adair</td>\n",
       "      <td>Iowa</td>\n",
       "      <td>19001</td>\n",
       "      <td>606</td>\n",
       "      <td>17.0</td>\n",
       "      <td>2020</td>\n",
       "    </tr>\n",
       "    <tr>\n",
       "      <th>...</th>\n",
       "      <td>...</td>\n",
       "      <td>...</td>\n",
       "      <td>...</td>\n",
       "      <td>...</td>\n",
       "      <td>...</td>\n",
       "      <td>...</td>\n",
       "    </tr>\n",
       "    <tr>\n",
       "      <th>12871</th>\n",
       "      <td>Yuma</td>\n",
       "      <td>Arizona</td>\n",
       "      <td>04027</td>\n",
       "      <td>71397</td>\n",
       "      <td>1259.0</td>\n",
       "      <td>2023</td>\n",
       "    </tr>\n",
       "    <tr>\n",
       "      <th>12872</th>\n",
       "      <td>Yuma</td>\n",
       "      <td>Colorado</td>\n",
       "      <td>08125</td>\n",
       "      <td>2349</td>\n",
       "      <td>27.0</td>\n",
       "      <td>2023</td>\n",
       "    </tr>\n",
       "    <tr>\n",
       "      <th>12873</th>\n",
       "      <td>Zapata</td>\n",
       "      <td>Texas</td>\n",
       "      <td>48505</td>\n",
       "      <td>4411</td>\n",
       "      <td>57.0</td>\n",
       "      <td>2023</td>\n",
       "    </tr>\n",
       "    <tr>\n",
       "      <th>12874</th>\n",
       "      <td>Zavala</td>\n",
       "      <td>Texas</td>\n",
       "      <td>48507</td>\n",
       "      <td>4386</td>\n",
       "      <td>70.0</td>\n",
       "      <td>2023</td>\n",
       "    </tr>\n",
       "    <tr>\n",
       "      <th>12875</th>\n",
       "      <td>Ziebach</td>\n",
       "      <td>South Dakota</td>\n",
       "      <td>46137</td>\n",
       "      <td>720</td>\n",
       "      <td>13.0</td>\n",
       "      <td>2023</td>\n",
       "    </tr>\n",
       "  </tbody>\n",
       "</table>\n",
       "<p>12876 rows × 6 columns</p>\n",
       "</div>"
      ],
      "text/plain": [
       "          county           state   fips  cases  deaths  year\n",
       "0      Abbeville  South Carolina  45001   1275    25.0  2020\n",
       "1         Acadia       Louisiana  22001   5082   153.0  2020\n",
       "2       Accomack        Virginia  51001   1698    27.0  2020\n",
       "3            Ada           Idaho  16001  38417   355.0  2020\n",
       "4          Adair            Iowa  19001    606    17.0  2020\n",
       "...          ...             ...    ...    ...     ...   ...\n",
       "12871       Yuma         Arizona  04027  71397  1259.0  2023\n",
       "12872       Yuma        Colorado  08125   2349    27.0  2023\n",
       "12873     Zapata           Texas  48505   4411    57.0  2023\n",
       "12874     Zavala           Texas  48507   4386    70.0  2023\n",
       "12875    Ziebach    South Dakota  46137    720    13.0  2023\n",
       "\n",
       "[12876 rows x 6 columns]"
      ]
     },
     "execution_count": 4,
     "metadata": {},
     "output_type": "execute_result"
    }
   ],
   "source": [
    "# Concatenate the dataframes\n",
    "covid = pd.concat([covid_20, covid_21, covid_22, covid_23], axis=0, ignore_index=True)\n",
    "covid"
   ]
  },
  {
   "cell_type": "markdown",
   "metadata": {},
   "source": [
    "### 2. Data cleaning"
   ]
  },
  {
   "cell_type": "code",
   "execution_count": 5,
   "metadata": {},
   "outputs": [
    {
     "data": {
      "text/plain": [
       "county      0\n",
       "state       0\n",
       "fips        0\n",
       "cases       0\n",
       "deaths    312\n",
       "year        0\n",
       "dtype: int64"
      ]
     },
     "execution_count": 5,
     "metadata": {},
     "output_type": "execute_result"
    }
   ],
   "source": [
    "# Check for missing values\n",
    "covid.isnull().sum(axis=0)"
   ]
  },
  {
   "cell_type": "code",
   "execution_count": 6,
   "metadata": {},
   "outputs": [
    {
     "data": {
      "text/plain": [
       "array(['Puerto Rico'], dtype=object)"
      ]
     },
     "execution_count": 6,
     "metadata": {},
     "output_type": "execute_result"
    }
   ],
   "source": [
    "covid[covid['deaths'].isnull()]['state'].unique()"
   ]
  },
  {
   "cell_type": "markdown",
   "metadata": {},
   "source": [
    "In this dataset, Puerto Rico does not record number of deaths. We can drop Puerto Rico since we will focus on the contiguous United States."
   ]
  },
  {
   "cell_type": "code",
   "execution_count": 7,
   "metadata": {},
   "outputs": [
    {
     "data": {
      "text/plain": [
       "county    0\n",
       "state     0\n",
       "fips      0\n",
       "cases     0\n",
       "deaths    0\n",
       "year      0\n",
       "dtype: int64"
      ]
     },
     "execution_count": 7,
     "metadata": {},
     "output_type": "execute_result"
    }
   ],
   "source": [
    "covid.drop(covid[covid['deaths'].isnull()].index, inplace=True)\n",
    "covid.isnull().sum(axis=0)"
   ]
  },
  {
   "cell_type": "markdown",
   "metadata": {},
   "source": [
    "### 3. Export \"cleaned\" dataset"
   ]
  },
  {
   "cell_type": "code",
   "execution_count": 8,
   "metadata": {},
   "outputs": [],
   "source": [
    "covid.to_csv('../data/data_cleaned/covid.csv', index=False)"
   ]
  },
  {
   "cell_type": "markdown",
   "metadata": {},
   "source": [
    "### References\n",
    "\n",
    "* Data source: https://github.com/nytimes/covid-19-data\n",
    "* https://pandas.pydata.org/docs/reference/api/pandas.isnull.html"
   ]
  }
 ],
 "metadata": {
  "kernelspec": {
   "display_name": "base",
   "language": "python",
   "name": "python3"
  },
  "language_info": {
   "codemirror_mode": {
    "name": "ipython",
    "version": 3
   },
   "file_extension": ".py",
   "mimetype": "text/x-python",
   "name": "python",
   "nbconvert_exporter": "python",
   "pygments_lexer": "ipython3",
   "version": "3.9.12"
  }
 },
 "nbformat": 4,
 "nbformat_minor": 4
}
